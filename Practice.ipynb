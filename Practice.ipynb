{
 "metadata": {
  "language_info": {
   "codemirror_mode": {
    "name": "ipython",
    "version": 3
   },
   "file_extension": ".py",
   "mimetype": "text/x-python",
   "name": "python",
   "nbconvert_exporter": "python",
   "pygments_lexer": "ipython3",
   "version": "3.9.4"
  },
  "orig_nbformat": 2,
  "kernelspec": {
   "name": "python394jvsc74a57bd0167380c844cb8dab65f7a2242fcdd292fd16a45a4bab8a9de8ac74aeee39fadd",
   "display_name": "Python 3.9.4 64-bit"
  },
  "metadata": {
   "interpreter": {
    "hash": "167380c844cb8dab65f7a2242fcdd292fd16a45a4bab8a9de8ac74aeee39fadd"
   }
  }
 },
 "nbformat": 4,
 "nbformat_minor": 2,
 "cells": [
  {
   "cell_type": "code",
   "execution_count": 1,
   "metadata": {},
   "outputs": [
    {
     "output_type": "stream",
     "name": "stdout",
     "text": [
      "The second letter of Jupiter is u\nThe first letter of Jupiter is: J\nJ\nr\nJ\n"
     ]
    }
   ],
   "source": [
    "#Task 1\n",
    "#Access String Characters\n",
    "#working_string[index]\n",
    "# [ ] access and print the second character from planet_name: \"u\"\n",
    "planet_name = \"Jupiter\"\n",
    "print(\"The second letter of\",planet_name, \"is\", planet_name[1])\n",
    "# [ ] access and print the first character from planet_name: \"J\"\n",
    "planet_name = \"Jupiter\"\n",
    "print(\"The first letter of Jupiter is:\", planet_name[0])\n",
    "# [ ] access and print the first and last characters from planet_name\n",
    "planet_name = \"Jupiter\"\n",
    "print(planet_name[0])\n",
    "print(planet_name[-1])\n",
    "# [ ] using a negative index access and print the first character from planet_name: \"J\"\n",
    "planet_name = \"Jupiter\"\n",
    "print(planet_name[-len(planet_name)])"
   ]
  },
  {
   "cell_type": "code",
   "execution_count": 2,
   "metadata": {},
   "outputs": [
    {
     "output_type": "stream",
     "name": "stdout",
     "text": [
      "Nep\ntune\nPython\n"
     ]
    }
   ],
   "source": [
    "#Task 2\n",
    "#slice\n",
    "#working_string[start:stop]\n",
    "#working_string[start:stop:step]\n",
    "# [ ] print planet_name sliced into the first 3 characters and remaining characters\n",
    "planet_name = \"Neptune\"\n",
    "print(planet_name[0:3])\n",
    "print(planet_name[3:len(planet_name)])\n",
    "# [ ] print 1st char and then every 3rd char of wise_words\n",
    "# use string slice with a step\n",
    "wise_words = 'Play it who opens'\n",
    "print(wise_words[0:len(wise_words):3])\n",
    "# [ ] print planet_name in reverse"
   ]
  },
  {
   "cell_type": "code",
   "execution_count": 3,
   "metadata": {},
   "outputs": [
    {
     "output_type": "stream",
     "name": "stdout",
     "text": [
      "P\ni\nz\nz\na\n"
     ]
    }
   ],
   "source": [
    "#Task 3\n",
    "#iterate a String\n",
    "#for letter in sentence:\n",
    "# [ ] Get user input for 1 fav_food\n",
    "# [ ] iterate through letters in fav_food \n",
    "#    - print each letter on a new line\n",
    "fav_food = input(\"say your favorite food\")\n",
    "for i in fav_food:\n",
    "    print(i)"
   ]
  },
  {
   "cell_type": "code",
   "execution_count": 4,
   "metadata": {},
   "outputs": [
    {
     "output_type": "stream",
     "name": "stdout",
     "text": [
      "Good code is commented code\n Good-code-is-commented-code\nHiro\nroto\n"
     ]
    }
   ],
   "source": [
    "# [ ] iterate work_tip string concatenate each letter to variable: new_string\n",
    "work_tip = \"Good code is commented code\" \n",
    "new_string = \"\"\n",
    "for i in work_tip:\n",
    "    new_string += i\n",
    "print(new_string)\n",
    "# [ ] concatenate the letter or a \"-\" instead of a space \" \"\n",
    "# tip: concatenate string example: word = word + \"a\"\n",
    "work_tip2 = \" \"\n",
    "for i in work_tip:\n",
    "    if i == \" \":\n",
    "        work_tip2 +=\"-\"\n",
    "    else:\n",
    "        work_tip2 += i\n",
    "print(work_tip2)\n",
    "# [ ] Print the first 4 letters of name on new line\n",
    "name = \"Hiroto\"\n",
    "print(name[:4])\n",
    "# [ ] Print every other letter from 2nd to last letter of name \n",
    "name = \"Hiroto\"\n",
    "print(name[2:])"
   ]
  },
  {
   "cell_type": "code",
   "execution_count": null,
   "metadata": {},
   "outputs": [],
   "source": []
  }
 ]
}
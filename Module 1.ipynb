{
 "metadata": {
  "language_info": {
   "codemirror_mode": {
    "name": "ipython",
    "version": 3
   },
   "file_extension": ".py",
   "mimetype": "text/x-python",
   "name": "python",
   "nbconvert_exporter": "python",
   "pygments_lexer": "ipython3",
   "version": "3.9.4"
  },
  "orig_nbformat": 2,
  "kernelspec": {
   "name": "python394jvsc74a57bd0167380c844cb8dab65f7a2242fcdd292fd16a45a4bab8a9de8ac74aeee39fadd",
   "display_name": "Python 3.9.4 64-bit"
  },
  "metadata": {
   "interpreter": {
    "hash": "167380c844cb8dab65f7a2242fcdd292fd16a45a4bab8a9de8ac74aeee39fadd"
   }
  }
 },
 "nbformat": 4,
 "nbformat_minor": 2,
 "cells": [
  {
   "cell_type": "code",
   "execution_count": 2,
   "metadata": {},
   "outputs": [
    {
     "output_type": "stream",
     "name": "stdout",
     "text": [
      "A\ne\nx\na\n"
     ]
    }
   ],
   "source": [
    "#STRING INDEX\n",
    "student_name = \"Alexandra\"\n",
    "print (student_name[0])\n",
    "print (student_name[2])\n",
    "print (student_name[3])\n",
    "print (student_name[4])"
   ]
  },
  {
   "cell_type": "code",
   "execution_count": 14,
   "metadata": {},
   "outputs": [
    {
     "output_type": "stream",
     "name": "stdout",
     "text": [
      "Not a match, try again tomorrow: Laura\n"
     ]
    }
   ],
   "source": [
    "student_name = \"Laura\"\n",
    "if student_name[0].lower() == \"a\":\n",
    "    print('Winner! Name starts with A:', student_name)\n",
    "elif student_name[0].lower() == \"j\":\n",
    "    print('Winner! Name starts with J:', student_name)\n",
    "else:\n",
    "    print('Not a match, try again tomorrow:', student_name)"
   ]
  },
  {
   "cell_type": "code",
   "execution_count": 15,
   "metadata": {},
   "outputs": [
    {
     "output_type": "stream",
     "name": "stdout",
     "text": [
      "a\n"
     ]
    }
   ],
   "source": [
    "student_name = \"Alexandra\"\n",
    "print (student_name[8])"
   ]
  },
  {
   "cell_type": "code",
   "execution_count": 16,
   "metadata": {},
   "outputs": [
    {
     "output_type": "stream",
     "name": "stdout",
     "text": [
      "D\nn\ne\n"
     ]
    }
   ],
   "source": [
    "street_name = \"Dandelions\"\n",
    "print (street_name[0])\n",
    "print (street_name[2])\n",
    "print (street_name[4])"
   ]
  },
  {
   "cell_type": "code",
   "execution_count": 27,
   "metadata": {},
   "outputs": [
    {
     "output_type": "stream",
     "name": "stdout",
     "text": [
      "The name  Gablins  does not contain i, o, or u\n"
     ]
    }
   ],
   "source": [
    "#Task1\n",
    "team_name = \"Gablins\"\n",
    "if team_name[1].lower() == \"i\":\n",
    "    print ('The name ', team_name, ' contains an i')\n",
    "elif team_name[1].lower() == \"o\":\n",
    "    print ('The name ', team_name, ' contains an o')\n",
    "elif team_name[1].lower() == \"u\":\n",
    "    print ('The name ', team_name, ' contains an u')\n",
    "else:\n",
    "    print ('The name ', team_name, ' does not contain i, o, or u' )"
   ]
  },
  {
   "cell_type": "code",
   "execution_count": 1,
   "metadata": {},
   "outputs": [
    {
     "output_type": "execute_result",
     "data": {
      "text/plain": [
       "'a'"
      ]
     },
     "metadata": {},
     "execution_count": 1
    }
   ],
   "source": [
    "#NEGATIVE INDEX\n",
    "student_name = \"Joana\"\n",
    "student_name[-1]"
   ]
  },
  {
   "cell_type": "code",
   "execution_count": 14,
   "metadata": {},
   "outputs": [
    {
     "output_type": "stream",
     "name": "stdout",
     "text": [
      "Joana ends with 'a'\n"
     ]
    }
   ],
   "source": [
    "end_letter = student_name[-1]\n",
    "print (student_name, \"ends with\", \"'\" + end_letter + \"'\")"
   ]
  },
  {
   "cell_type": "code",
   "execution_count": 16,
   "metadata": {},
   "outputs": [
    {
     "output_type": "stream",
     "name": "stdout",
     "text": [
      "Joana's second to last letter is 'n'\n"
     ]
    }
   ],
   "source": [
    "second_last_letter = student_name[-2]\n",
    "print (student_name+\"'s second to last letter is\",\"'\"+second_last_letter+\"'\")"
   ]
  },
  {
   "cell_type": "code",
   "execution_count": 18,
   "metadata": {},
   "outputs": [
    {
     "output_type": "stream",
     "name": "stdout",
     "text": [
      "Joana\nindex 3= 'n'\nindex -2= 'n'\n"
     ]
    }
   ],
   "source": [
    "print(student_name)\n",
    "print(\"index 3=\",\"'\"+student_name[3]+\"'\")\n",
    "print(\"index -2=\",\"'\"+student_name[-2]+\"'\")"
   ]
  },
  {
   "cell_type": "code",
   "execution_count": 20,
   "metadata": {},
   "outputs": [
    {
     "output_type": "stream",
     "name": "stdout",
     "text": [
      "Dandelions's last 3 letters are: 's', 'n', 'o'\nA\na\n"
     ]
    }
   ],
   "source": [
    "#Task2\n",
    "street_name=\"Dandelions\"\n",
    "print(street_name+\"'s last 3 letters are:\", \"'\"+street_name[-1]+\"'\"+\",\",\"'\"+street_name[-2]+\"'\"+\",\",\"'\"+street_name[-3]+\"'\")\n",
    "\n",
    "first_name = \"Alexandra\"\n",
    "print(first_name[0])\n",
    "print(first_name[-1])"
   ]
  },
  {
   "cell_type": "code",
   "execution_count": 22,
   "metadata": {},
   "outputs": [
    {
     "output_type": "stream",
     "name": "stdout",
     "text": [
      "s\n"
     ]
    }
   ],
   "source": [
    "#Task3\n",
    "shoe=\"tennis\"\n",
    "#print(shoe(-1))\n",
    "print(shoe[-1])"
   ]
  },
  {
   "cell_type": "code",
   "execution_count": 1,
   "metadata": {},
   "outputs": [
    {
     "output_type": "stream",
     "name": "stdout",
     "text": [
      "slice student_name [2:5]: let\n"
     ]
    }
   ],
   "source": [
    "student_name = \"Colette\"\n",
    "print(\"slice student_name [2:5]:\", student_name[2:5])"
   ]
  },
  {
   "cell_type": "code",
   "execution_count": 6,
   "metadata": {},
   "outputs": [
    {
     "output_type": "stream",
     "name": "stdout",
     "text": [
      "Acknowledgement \n\nknowledge\nknowledge is the 3rd char through the 11th char\nknowledge is the index 2, \"k\", through index 10, \"e\"\n"
     ]
    }
   ],
   "source": [
    "#Access sub-strings\n",
    "long_word = \"Acknowledgement\"\n",
    "print(long_word, \"\\n\")\n",
    "print(long_word[2:11])\n",
    "print(long_word[2:11], \"is the 3rd char through the 11th char\")\n",
    "print(long_word[2:11], \"is the index 2, \\\"\" + long_word[2] + \"\\\",\", \"through index 10, \\\"\"+ long_word[10]+ \"\\\"\")\n",
    "\n"
   ]
  },
  {
   "cell_type": "code",
   "execution_count": 7,
   "metadata": {},
   "outputs": [
    {
     "output_type": "stream",
     "name": "stdout",
     "text": [
      "act\ntic\n"
     ]
    }
   ],
   "source": [
    "# Task 1\n",
    "#  [ ] slice long_word to print \"act\" and to print \"tic\"\n",
    "long_word = \"characteristics\"\n",
    "print(long_word[4:7])\n",
    "print(long_word[11:14])"
   ]
  },
  {
   "cell_type": "code",
   "execution_count": 8,
   "metadata": {},
   "outputs": [
    {
     "output_type": "stream",
     "name": "stdout",
     "text": [
      "sequence\n"
     ]
    }
   ],
   "source": [
    "#[ ] slice long_word to print \"sequence\"\n",
    "long_word = \"Consequences\"\n",
    "print(long_word[3:11])"
   ]
  },
  {
   "cell_type": "code",
   "execution_count": 14,
   "metadata": {},
   "outputs": [
    {
     "output_type": "stream",
     "name": "stdout",
     "text": [
      "Col\nC\nColette\n"
     ]
    }
   ],
   "source": [
    "student_name = \"Colette\"\n",
    "print(student_name[:3])\n",
    "print(student_name[:1])\n",
    "print(student_name[:7])"
   ]
  },
  {
   "cell_type": "code",
   "execution_count": 17,
   "metadata": {},
   "outputs": [
    {
     "output_type": "stream",
     "name": "stdout",
     "text": [
      "Conseq\n"
     ]
    }
   ],
   "source": [
    "#Task 2\n",
    "# [ ] print the first half of the long_word\n",
    "long_word = \"Consequences\"\n",
    "print(long_word[:6])"
   ]
  },
  {
   "cell_type": "code",
   "execution_count": 19,
   "metadata": {},
   "outputs": [
    {
     "output_type": "stream",
     "name": "stdout",
     "text": [
      "ette\ne\n"
     ]
    }
   ],
   "source": [
    "student_name = \"Colette\"\n",
    "print(student_name[3:])\n",
    "#the last chr\n",
    "print(student_name[6:])"
   ]
  },
  {
   "cell_type": "code",
   "execution_count": 24,
   "metadata": {},
   "outputs": [
    {
     "output_type": "stream",
     "name": "stdout",
     "text": [
      "uences\nNo parking on Consequences and equences streets\n"
     ]
    }
   ],
   "source": [
    "#Task 3\n",
    "# [ ] print the second half of the long_word\n",
    "long_word = \"Consequences\"\n",
    "print(long_word[6:])\n",
    "print(\"No parking on\", long_word[0:], \"and\", long_word[4:], \"streets\")"
   ]
  },
  {
   "cell_type": "code",
   "execution_count": 25,
   "metadata": {},
   "outputs": [
    {
     "output_type": "stream",
     "name": "stdout",
     "text": [
      "Colette\n"
     ]
    }
   ],
   "source": [
    "student_name = \"Colette\"\n",
    "print(student_name[:])"
   ]
  },
  {
   "cell_type": "code",
   "execution_count": 26,
   "metadata": {},
   "outputs": [
    {
     "output_type": "stream",
     "name": "stdout",
     "text": [
      "Colette \n\nClte\n"
     ]
    }
   ],
   "source": [
    "print(student_name, \"\\n\")\n",
    "print(student_name[::2])"
   ]
  },
  {
   "cell_type": "code",
   "execution_count": 27,
   "metadata": {},
   "outputs": [
    {
     "output_type": "stream",
     "name": "stdout",
     "text": [
      "Colette \n\noet\n"
     ]
    }
   ],
   "source": [
    "print(student_name, \"\\n\")\n",
    "print(student_name[1::2])"
   ]
  },
  {
   "cell_type": "code",
   "execution_count": 28,
   "metadata": {},
   "outputs": [
    {
     "output_type": "stream",
     "name": "stdout",
     "text": [
      "Consequences \n\nosqe\n"
     ]
    }
   ],
   "source": [
    "long_word = \"Consequences\"\n",
    "print(long_word, \"\\n\")\n",
    "print(long_word[1:9:2])"
   ]
  },
  {
   "cell_type": "code",
   "execution_count": 30,
   "metadata": {},
   "outputs": [
    {
     "output_type": "stream",
     "name": "stdout",
     "text": [
      "Anlge\nknowledgement\n"
     ]
    }
   ],
   "source": [
    "#Task 4\n",
    "# [ ] print the 1st and every 3rd letter of long_word\n",
    "long_word = \"Acknowledgement\"\n",
    "print(long_word[::3])\n",
    "# [ ] print every other character of long_word starting at the 3rd character\n",
    "print(long_word[2:])\n"
   ]
  },
  {
   "cell_type": "code",
   "execution_count": 31,
   "metadata": {},
   "outputs": [
    {
     "output_type": "stream",
     "name": "stdout",
     "text": [
      "scitsiretcarahc\n"
     ]
    }
   ],
   "source": [
    "long_word = \"characteristics\"\n",
    "print (long_word[::-1])"
   ]
  },
  {
   "cell_type": "code",
   "execution_count": 33,
   "metadata": {},
   "outputs": [
    {
     "output_type": "stream",
     "name": "stdout",
     "text": [
      "tcarahc\n"
     ]
    }
   ],
   "source": [
    "long_word = \"characteristics\"\n",
    "print (long_word[6::-1])"
   ]
  },
  {
   "cell_type": "code",
   "execution_count": 34,
   "metadata": {},
   "outputs": [
    {
     "output_type": "stream",
     "name": "stdout",
     "text": [
      "desserts\n"
     ]
    }
   ],
   "source": [
    "#Task 5\n",
    "# [ ] reverse long_word\n",
    "long_word = \"stressed\"\n",
    "print(long_word[::-1])\n"
   ]
  },
  {
   "cell_type": "code",
   "execution_count": 37,
   "metadata": {},
   "outputs": [
    {
     "output_type": "stream",
     "name": "stdout",
     "text": [
      "arahc\n"
     ]
    }
   ],
   "source": [
    "# [ ] print the first 5 letters of long_word in reverse\n",
    "long_word = \"characteristics\"\n",
    "print(long_word[4::-1])"
   ]
  },
  {
   "cell_type": "code",
   "execution_count": 53,
   "metadata": {},
   "outputs": [
    {
     "output_type": "stream",
     "name": "stdout",
     "text": [
      "time\nemit\nenil\nnile\n"
     ]
    }
   ],
   "source": [
    "#Task 6\n",
    "# [ ] print the first 4 letters of long_word\n",
    "# [ ] print the first 4 letters of long_word in reverse\n",
    "# [ ] print the last 4 letters of long_word in reverse\n",
    "# [ ] print the letters spanning indexes 3 to 6 of long_word in Reverse\n",
    "long_word = \"timeline\"\n",
    "print(long_word[:4])\n",
    "print(long_word[3::-1])\n",
    "print(long_word[9:3:-1])\n",
    "print(long_word[6:2:-1])"
   ]
  },
  {
   "cell_type": "code",
   "execution_count": 2,
   "metadata": {},
   "outputs": [
    {
     "output_type": "stream",
     "name": "stdout",
     "text": [
      "c\ne\nl\nl\no\n"
     ]
    }
   ],
   "source": [
    "word = \"cello\"\n",
    "for letter in word:\n",
    "    print (letter)"
   ]
  },
  {
   "cell_type": "code",
   "execution_count": 3,
   "metadata": {},
   "outputs": [
    {
     "output_type": "stream",
     "name": "stdout",
     "text": [
      "t\nr\nu\nm\np\ne\nt\n"
     ]
    }
   ],
   "source": [
    "word = \"trumpet\"\n",
    "for item in word:\n",
    "    print(item)"
   ]
  },
  {
   "cell_type": "code",
   "execution_count": 6,
   "metadata": {},
   "outputs": [
    {
     "output_type": "stream",
     "name": "stdout",
     "text": [
      "p\ni\na\nn\no\n"
     ]
    }
   ],
   "source": [
    "word = \"piano\"\n",
    "for x in word:\n",
    "    print(x)"
   ]
  },
  {
   "cell_type": "code",
   "execution_count": 7,
   "metadata": {},
   "outputs": [
    {
     "output_type": "stream",
     "name": "stdout",
     "text": [
      "Skye to SkYe\n"
     ]
    }
   ],
   "source": [
    "#ITERATE BY CHARACTER\n",
    "student_name = \"Skye\"\n",
    "new_name = \"\"\n",
    "for ltr in student_name:\n",
    "    if ltr.lower() == \"y\":\n",
    "        new_name += ltr.upper()\n",
    "    else:\n",
    "        new_name += ltr\n",
    "print (student_name, \"to\", new_name)"
   ]
  },
  {
   "cell_type": "code",
   "execution_count": 13,
   "metadata": {},
   "outputs": [
    {
     "output_type": "stream",
     "name": "stdout",
     "text": [
      "u\ns\ne\nr\n"
     ]
    }
   ],
   "source": [
    "#Task 1\n",
    "# [ ] Get user input for first_name\n",
    "# [ ] iterate through letters in first_name \n",
    "#    - print each letter on a new line\n",
    "first_name = \"user\"\n",
    "for x in first_name:\n",
    "    print(x)"
   ]
  },
  {
   "cell_type": "code",
   "execution_count": 19,
   "metadata": {},
   "outputs": [
    {
     "output_type": "stream",
     "name": "stdout",
     "text": [
      "POmpeI\n"
     ]
    }
   ],
   "source": [
    "#Task 2\n",
    "#get user input for first_name\n",
    "#create an empty string variable: new_name\n",
    "#iterate through letters in first_name\n",
    "#add each letter in new_name\n",
    "#capitalize if letter is an \"i\" or \"o\" *(hint: if, elif, else)\n",
    "#print new_name\n",
    "\n",
    "first_name = \"Pompei\"\n",
    "new_name = \"\"\n",
    "for x in first_name:\n",
    "    if x.lower() == \"i\":\n",
    "        new_name += x.upper()\n",
    "    elif x.lower() == \"o\":\n",
    "        new_name += x.upper()\n",
    "    else:\n",
    "        new_name += x\n",
    "print (new_name)"
   ]
  },
  {
   "cell_type": "code",
   "execution_count": 20,
   "metadata": {},
   "outputs": [
    {
     "output_type": "stream",
     "name": "stdout",
     "text": [
      "S\nk\ny\n"
     ]
    }
   ],
   "source": [
    "student_name = \"Skye\"\n",
    "for x in student_name[:3]:\n",
    "    print(x)"
   ]
  },
  {
   "source": [
    "student_name = \"Skye\"\n",
    "for x in student_name[::-1]:\n",
    "    print(x)"
   ],
   "cell_type": "code",
   "metadata": {},
   "execution_count": 21,
   "outputs": [
    {
     "output_type": "stream",
     "name": "stdout",
     "text": [
      "e\ny\nk\nS\n"
     ]
    }
   ]
  },
  {
   "cell_type": "code",
   "execution_count": 22,
   "metadata": {},
   "outputs": [
    {
     "output_type": "stream",
     "name": "stdout",
     "text": [
      "juxtaposition\n"
     ]
    }
   ],
   "source": [
    "#Task 3\n",
    "# [ ] create & print a variable, other_word, made of every other letter in long_word\n",
    "long_word = \"juxtaposition\"\n",
    "long_word = \"juxtaposition\"\n",
    "other_word = \"\"\n",
    "for x in long_word:\n",
    "    other_word += x\n",
    "print(other_word)"
   ]
  },
  {
   "cell_type": "code",
   "execution_count": 24,
   "metadata": {},
   "outputs": [
    {
     "output_type": "stream",
     "name": "stdout",
     "text": [
      "wolleYYellow\n"
     ]
    }
   ],
   "source": [
    "# Mirror Color\n",
    "# [ ] get user input, fav_color\n",
    "# [ ] print fav_color backwards + fav_color\n",
    "# example: \"Red\" prints \"deRRed\"\n",
    "fav_color = \"Yellow\"\n",
    "print(fav_color[::-1]+fav_color)"
   ]
  },
  {
   "cell_type": "code",
   "execution_count": 25,
   "metadata": {},
   "outputs": [
    {
     "output_type": "stream",
     "name": "stdout",
     "text": [
      "Number of characters in strings\n"
     ]
    },
    {
     "output_type": "execute_result",
     "data": {
      "text/plain": [
       "14"
      ]
     },
     "metadata": {},
     "execution_count": 25
    }
   ],
   "source": [
    "#len ()\n",
    "work_tip = \"save your code\"\n",
    "print (\"Number of characters in strings\")\n",
    "len(work_tip)"
   ]
  },
  {
   "cell_type": "code",
   "execution_count": 26,
   "metadata": {},
   "outputs": [
    {
     "output_type": "stream",
     "name": "stdout",
     "text": [
      "The sentance: \"good code is commented code\" has character lenght =  27\n"
     ]
    }
   ],
   "source": [
    "work_tip = \"good code is commented code\"\n",
    "print (\"The sentance: \\\"\" + work_tip + \"\\\" has character lenght = \", len(work_tip))"
   ]
  },
  {
   "cell_type": "code",
   "execution_count": 27,
   "metadata": {},
   "outputs": [
    {
     "output_type": "stream",
     "name": "stdout",
     "text": [
      "good code is \ncommented code\n"
     ]
    }
   ],
   "source": [
    "work_tip = \"good code is commented code\"\n",
    "len_tip = len(work_tip)\n",
    "mid_pt = int(len_tip/2)\n",
    "print(work_tip[:mid_pt])\n",
    "print(work_tip[mid_pt:])"
   ]
  },
  {
   "cell_type": "code",
   "execution_count": 30,
   "metadata": {},
   "outputs": [
    {
     "output_type": "stream",
     "name": "stdout",
     "text": [
      "letter  \"e\" occurrences\n"
     ]
    },
    {
     "output_type": "execute_result",
     "data": {
      "text/plain": [
       "2"
      ]
     },
     "metadata": {},
     "execution_count": 30
    }
   ],
   "source": [
    "#count()\n",
    "work_tip = \"save your code\"\n",
    "print('letter  \"e\" occurrences')\n",
    "work_tip.count(\"e\")"
   ]
  },
  {
   "cell_type": "code",
   "execution_count": 31,
   "metadata": {},
   "outputs": [
    {
     "output_type": "stream",
     "name": "stdout",
     "text": [
      "save your code\nhow many w's?  0\nhow many o's?  2\nuses 'code', how many times?  1\n"
     ]
    }
   ],
   "source": [
    "print(work_tip)\n",
    "print(\"how many w's? \", work_tip.count(\"w\"))\n",
    "print(\"how many o's? \", work_tip.count(\"o\"))\n",
    "print(\"uses 'code', how many times? \", work_tip.count(\"code\"))"
   ]
  },
  {
   "cell_type": "code",
   "execution_count": 32,
   "metadata": {},
   "outputs": [
    {
     "output_type": "stream",
     "name": "stdout",
     "text": [
      "save yo\n# o's in first half\n1\n\nur code\n# o's in the second hald\n1\n"
     ]
    }
   ],
   "source": [
    "print(work_tip[:7])\n",
    "print(\"# o's in first half\")\n",
    "print(work_tip[:7].count(\"o\"))\n",
    "\n",
    "print()\n",
    "print(work_tip[7:])\n",
    "print(\"# o's in the second hald\")\n",
    "print(work_tip[7:].count(\"o\"))"
   ]
  },
  {
   "cell_type": "code",
   "execution_count": 33,
   "metadata": {},
   "outputs": [
    {
     "output_type": "stream",
     "name": "stdout",
     "text": [
      "find the index of the first space\n4 \n\n"
     ]
    }
   ],
   "source": [
    "#find()\n",
    "work_tip = \"save your code\"\n",
    "print(\"find the index of the first space\")\n",
    "print(work_tip.find(\" \"), \"\\n\")"
   ]
  },
  {
   "cell_type": "code",
   "execution_count": 1,
   "metadata": {},
   "outputs": [
    {
     "output_type": "stream",
     "name": "stdout",
     "text": [
      "good code has meaningful variable names\n5  =starting index for \"code\"\n"
     ]
    }
   ],
   "source": [
    "work_tip = \"good code has meaningful variable names\"\n",
    "print(work_tip)\n",
    "\n",
    "code_here = work_tip.find(\"code\")\n",
    "print(code_here, '= starting index for \"code\"')"
   ]
  },
  {
   "cell_type": "code",
   "execution_count": 35,
   "metadata": {},
   "outputs": [
    {
     "output_type": "stream",
     "name": "stdout",
     "text": [
      "work_tip: good code has meaningful variable names\n'o' at index = 1\n'o' at index = 2\n'o' at index = 6\nno more o's\n"
     ]
    }
   ],
   "source": [
    "print (\"work_tip:\" , work_tip)\n",
    "location = work_tip.find(\"o\")\n",
    "\n",
    "# keeps looping until location = -1 (no \"o\" found)\n",
    "while location >= 0:\n",
    "    print(\"'o' at index =\", location)\n",
    "    # find(\"o\", location + 1) looks for a \"o\" after index the first \"o\" was found\n",
    "    location = work_tip.find(\"o\", location + 1)\n",
    "print(\"no more o's\")"
   ]
  },
  {
   "cell_type": "code",
   "execution_count": 5,
   "metadata": {},
   "outputs": [
    {
     "output_type": "stream",
     "name": "stdout",
     "text": [
      "search for \"meaning\" in the sub-string:  meaningful variable \n\n\"meaning\" found in sub-string search at index: 14\n"
     ]
    }
   ],
   "source": [
    "print ('search for \"meaning\" in the sub-string:', work_tip[13:33], \"\\n\")\n",
    "meaning_here = work_tip.find(\"meaning\", 13, 33)\n",
    "print('\"meaning\" found in sub-string search at index:', meaning_here)"
   ]
  },
  {
   "cell_type": "code",
   "execution_count": 18,
   "metadata": {},
   "outputs": [
    {
     "output_type": "stream",
     "name": "stdout",
     "text": [
      "wear a hat w\nhen it rains\n"
     ]
    }
   ],
   "source": [
    "#Task 1\n",
    "#len()\n",
    "# [ ] use len() to find the midpoint of the string \n",
    "# [ ] print the halves on separate lines\n",
    "random_tip = \"wear a hat when it rains\"\n",
    "mid_tip =int(len(random_tip)/2)\n",
    "print(random_tip[:mid_tip])\n",
    "print(random_tip[mid_tip:])"
   ]
  },
  {
   "cell_type": "code",
   "execution_count": 20,
   "metadata": {},
   "outputs": [
    {
     "output_type": "stream",
     "name": "stdout",
     "text": [
      "Letter \"e\" was found 2 times\n\nLetter \"a\" was found 4 times\n\nLetter \"a\" is the most frequent\n"
     ]
    }
   ],
   "source": [
    "#Task 2\n",
    "#.count()\n",
    "# for letters: \"e\" and \"a\" in random_tip\n",
    "# [ ] print letter counts \n",
    "# [ ] BONUS: print which letter is most frequent\n",
    "random_tip = \"wear a hat when it rains\"\n",
    "print('Letter \"e\" was found', random_tip.count(\"e\"), 'times' \"\\n\" )\n",
    "print('Letter \"a\" was found', random_tip.count(\"a\"), 'times' \"\\n\")\n",
    "if random_tip.count(\"e\")>random_tip.count(\"a\"):\n",
    "    print('Letter \"e\" is the most frequent')\n",
    "elif random_tip.count(\"e\") == random_tip.count(\"a\"):\n",
    "    print(\"The frequency of the two letter is equal\")\n",
    "else:\n",
    "    print('Letter \"a\" is the most frequent')"
   ]
  },
  {
   "cell_type": "code",
   "execution_count": 26,
   "metadata": {},
   "outputs": [
    {
     "output_type": "stream",
     "name": "stdout",
     "text": [
      "taposition \n\ntion\n"
     ]
    }
   ],
   "source": [
    "#Task 3\n",
    "#.find()\n",
    "# [ ] print long_word from the location of the first and second \"t\"\n",
    "long_word = \"juxtaposition\"\n",
    "position = long_word.find(\"t\")\n",
    "print(long_word[position:] ,\"\\n\")\n",
    "position = long_word.find(\"t\", position+1)\n",
    "print(long_word[position:])\n"
   ]
  },
  {
   "cell_type": "code",
   "execution_count": 44,
   "metadata": {},
   "outputs": [
    {
     "output_type": "stream",
     "name": "stdout",
     "text": [
      "they\n stumble\n who\n run\n fast\n"
     ]
    }
   ],
   "source": [
    "\n",
    "#Task 4\n",
    "#Program: print each word in a quote\n",
    "#start = 0\n",
    "#space_index = quote.find(\" \")\n",
    "#while space_index != -1:\n",
    "    # code to print word (index slice start:space_index)\n",
    "#Output should look like below:\n",
    "\n",
    "  #they\n",
    "  #stumble\n",
    "  #who\n",
    "  #run\n",
    "  #fast\n",
    "# [ ] Print each word in the quote on a new line\n",
    "quote = \"they stumble who run fast\"\n",
    "start = 0\n",
    "space_index = quote.find(\" \")\n",
    "while space_index != -1:\n",
    "    print(quote[start:space_index])\n",
    "    start = space_index\n",
    "    space_index = quote.find(\" \", space_index + 1)\n",
    "print(quote[start:])"
   ]
  },
  {
   "cell_type": "code",
   "execution_count": null,
   "metadata": {},
   "outputs": [],
   "source": []
  }
 ]
}